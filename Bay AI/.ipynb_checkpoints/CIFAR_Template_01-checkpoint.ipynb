{
 "cells": [
  {
   "cell_type": "markdown",
   "metadata": {},
   "source": [
    "# CIFAR 10 Exercise"
   ]
  },
  {
   "cell_type": "markdown",
   "metadata": {},
   "source": [
    "(from http://www.cs.toronto.edu/~kriz/cifar.html)\n",
    "\n",
    "The CIFAR-10 dataset consists of 60000 32x32 colour images in 10 classes, with 6000 images per class. There are 50000 training images and 10000 test images.\n",
    "\n",
    "The dataset is divided into five training batches and one test batch, each with 10000 images. The test batch contains exactly 1000 randomly-selected images from each class. The training batches contain the remaining images in random order, but some training batches may contain more images from one class than another. Between them, the training batches contain exactly 5000 images from each class.\n",
    "\n",
    "Begin by defining the batch size, the number of classes, and the number of epochs you want to train for."
   ]
  },
  {
   "cell_type": "code",
   "execution_count": null,
   "metadata": {},
   "outputs": [],
   "source": [
    "import keras\n"
   ]
  },
  {
   "cell_type": "markdown",
   "metadata": {},
   "source": [
    "Import cifar10 from keras.datasets. Load the data by calling load_data(). Note that load_data() gives the following:\n",
    "\n",
    "    (training_images, training_labels), (testing_images, testing_labels) = cifar10.load_data()"
   ]
  },
  {
   "cell_type": "code",
   "execution_count": null,
   "metadata": {},
   "outputs": [],
   "source": []
  },
  {
   "cell_type": "markdown",
   "metadata": {},
   "source": [
    "Print the shapes of the data we are working with. Use the function keras.utils.to_categorical to convert the lables into categorical values."
   ]
  },
  {
   "cell_type": "code",
   "execution_count": null,
   "metadata": {},
   "outputs": [],
   "source": []
  },
  {
   "cell_type": "markdown",
   "metadata": {},
   "source": [
    "Create a keras sequential model and add the necessary layers. Layers to add:\n",
    "\n",
    "input --> convolutional layer, 32 filters, size 3 by 3, padding of same --> relu --> convolutional layer, 32 filters, size 3 by 3 --> relu --> Max pooling size 2 by 2 --> Dropout --> convolutional layer, 64 filters, size 3 by 3, padding of same --> relu --> convolutional layer, 64 filters, size 3 by 3 --> relu --> Max pooling size 2 by 2 --> Dropout --> Flatten --> 512 Dense neurons --> relu --> Dropout of 0.5 --> Dence layer with same number of neurons as there are classes --> softmax"
   ]
  },
  {
   "cell_type": "code",
   "execution_count": null,
   "metadata": {},
   "outputs": [],
   "source": []
  },
  {
   "cell_type": "markdown",
   "metadata": {},
   "source": [
    "Initialize an rmsprop optimizer with learning rate 0.0001 and a decay of 10^-6."
   ]
  },
  {
   "cell_type": "code",
   "execution_count": null,
   "metadata": {},
   "outputs": [],
   "source": []
  },
  {
   "cell_type": "markdown",
   "metadata": {},
   "source": [
    "Fully initialize the model with the compile() function. Use the categorical crossentropy loss and accuracy as the metric."
   ]
  },
  {
   "cell_type": "code",
   "execution_count": null,
   "metadata": {},
   "outputs": [],
   "source": []
  },
  {
   "cell_type": "markdown",
   "metadata": {},
   "source": [
    "Normalize the training and testing images so that the arrays' values are between 0 and 1"
   ]
  },
  {
   "cell_type": "code",
   "execution_count": null,
   "metadata": {},
   "outputs": [],
   "source": []
  },
  {
   "cell_type": "markdown",
   "metadata": {},
   "source": [
    "Fit the model!"
   ]
  },
  {
   "cell_type": "code",
   "execution_count": null,
   "metadata": {},
   "outputs": [],
   "source": []
  },
  {
   "cell_type": "markdown",
   "metadata": {},
   "source": [
    "Taking too long or not as accurate as you would like? Try changing the parameters of the model or adding more pre-processing to the data. Be careful if you change things with the convolutions, make sure you do some research do understand how the dimensions fit together! Try to create a model which gives as high an accuracy as possible and takes as little time to train as possible!"
   ]
  }
 ],
 "metadata": {
  "kernelspec": {
   "display_name": "Python 3",
   "language": "python",
   "name": "python3"
  },
  "language_info": {
   "codemirror_mode": {
    "name": "ipython",
    "version": 3
   },
   "file_extension": ".py",
   "mimetype": "text/x-python",
   "name": "python",
   "nbconvert_exporter": "python",
   "pygments_lexer": "ipython3",
   "version": "3.7.4"
  }
 },
 "nbformat": 4,
 "nbformat_minor": 2
}
